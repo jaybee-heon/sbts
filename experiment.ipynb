{
 "cells": [
  {
   "cell_type": "code",
   "execution_count": null,
   "metadata": {},
   "outputs": [],
   "source": [
    "# pip install -U pymoo"
   ]
  },
  {
   "cell_type": "code",
   "execution_count": null,
   "metadata": {},
   "outputs": [],
   "source": [
    "import numpy as np\n",
    "import pandas as pd\n",
    "import json\n",
    "\n",
    "from data_preprocess import *\n",
    "from run_ga import *\n",
    "import matplotlib.pyplot as plt\n",
    "import pickle"
   ]
  },
  {
   "cell_type": "code",
   "execution_count": null,
   "metadata": {},
   "outputs": [],
   "source": [
    "tet_path = \"./data/tet.json\"\n",
    "fdr_path = \"./data/all_class_mutation/Chart-1_fdr.json\"\n",
    "\n",
    "with open(tet_path, 'r') as f:\n",
    "    tet_data = json.load(f)\n",
    "\n",
    "\n",
    "with open(fdr_path, 'r') as f:\n",
    "    fdr_data = json.load(f)\n",
    "\n",
    "chart_1_tet = tet_data['Chart-1']\n",
    "chart_1_fdr = dict()\n",
    "\n",
    "for key, value in fdr_data['Chart_1'].items():\n",
    "    chart_1_fdr[key] = value['mutation-score']\n",
    "\n",
    "\n",
    "chart_1_tet = sorted(chart_1_tet.items())\n",
    "chart_1_fdr = sorted(chart_1_fdr.items())"
   ]
  },
  {
   "cell_type": "code",
   "execution_count": null,
   "metadata": {},
   "outputs": [],
   "source": [
    "tests = [i[0] for i in chart_1_tet]\n",
    "execution_times = np.array([i[1] for i in chart_1_tet])\n",
    "fault_detections = np.array([i[1] for i in chart_1_fdr])\n",
    "\n",
    "test_cases = np.column_stack((execution_times, fault_detections))\n",
    "adequacy_scores = get_adequacy_scores(fault_detections)"
   ]
  },
  {
   "cell_type": "code",
   "execution_count": null,
   "metadata": {},
   "outputs": [],
   "source": [
    "bitflip = run_nsga(test_cases, False)"
   ]
  },
  {
   "cell_type": "code",
   "execution_count": null,
   "metadata": {},
   "outputs": [],
   "source": [
    "adeq = run_nsga_with_adequecy(test_cases, adequacy_scores, False)"
   ]
  },
  {
   "cell_type": "code",
   "execution_count": null,
   "metadata": {},
   "outputs": [],
   "source": [
    "bitflip_res = np.abs(bitflip.F)\n",
    "adeq_res = np.abs(adeq.F)\n",
    "\n",
    "plt.scatter(bitflip_res[:, 0], bitflip_res[:, 1], label=\"Bitflip\")\n",
    "plt.scatter(adeq_res[:, 0], adeq_res[:, 1], label=\"Adequacy\")\n",
    "plt.xlabel(\"TET\")\n",
    "plt.ylabel(\"FDR\")\n",
    "plt.legend()"
   ]
  },
  {
   "cell_type": "code",
   "execution_count": null,
   "metadata": {},
   "outputs": [],
   "source": [
    "with open('data/merged_data/Chart_1.pkl', 'rb') as f:\n",
    "    data = pickle.load(f)\n",
    "print(data)"
   ]
  }
 ],
 "metadata": {
  "kernelspec": {
   "display_name": "Python 3",
   "language": "python",
   "name": "python3"
  },
  "language_info": {
   "codemirror_mode": {
    "name": "ipython",
    "version": 3
   },
   "file_extension": ".py",
   "mimetype": "text/x-python",
   "name": "python",
   "nbconvert_exporter": "python",
   "pygments_lexer": "ipython3",
   "version": "3.11.3"
  }
 },
 "nbformat": 4,
 "nbformat_minor": 2
}
