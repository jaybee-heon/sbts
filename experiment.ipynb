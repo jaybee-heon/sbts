{
 "cells": [
  {
   "cell_type": "code",
   "execution_count": null,
   "metadata": {},
   "outputs": [],
   "source": [
    "# pip install -U pymoo"
   ]
  },
  {
   "cell_type": "code",
   "execution_count": 14,
   "metadata": {},
   "outputs": [],
   "source": [
    "import numpy as np\n",
    "import pandas as pd\n",
    "import json\n",
    "\n",
    "from data_preprocess import *\n",
    "from run_ga import *"
   ]
  },
  {
   "cell_type": "code",
   "execution_count": 15,
   "metadata": {},
   "outputs": [],
   "source": [
    "tet_path = \"./data/tet.json\"\n",
    "fdr_path = \"./data/all_class_mutation/Chart-1_fdr.json\"\n",
    "\n",
    "with open(tet_path, 'r') as f:\n",
    "    tet_data = json.load(f)\n",
    "\n",
    "\n",
    "with open(fdr_path, 'r') as f:\n",
    "    fdr_data = json.load(f)\n",
    "\n",
    "chart_1_tet = tet_data['Chart-1']\n",
    "chart_1_fdr = dict()\n",
    "\n",
    "for key, value in fdr_data['Chart_1'].items():\n",
    "    chart_1_fdr[key] = value['mutation-score']\n",
    "\n",
    "\n",
    "chart_1_tet = sorted(chart_1_tet.items())\n",
    "chart_1_fdr = sorted(chart_1_fdr.items())"
   ]
  },
  {
   "cell_type": "code",
   "execution_count": 17,
   "metadata": {},
   "outputs": [
    {
     "ename": "NameError",
     "evalue": "name 'run_nsga_with_adequecy' is not defined",
     "output_type": "error",
     "traceback": [
      "\u001b[0;31m---------------------------------------------------------------------------\u001b[0m",
      "\u001b[0;31mNameError\u001b[0m                                 Traceback (most recent call last)",
      "Cell \u001b[0;32mIn[17], line 9\u001b[0m\n\u001b[1;32m      6\u001b[0m adequacy_scores \u001b[38;5;241m=\u001b[39m get_adequacy_scores(fault_detections)\n\u001b[1;32m      8\u001b[0m \u001b[38;5;66;03m# run_nsga(test_cases)\u001b[39;00m\n\u001b[0;32m----> 9\u001b[0m \u001b[43mrun_nsga_with_adequecy\u001b[49m(test_cases, adequacy_scores)\n",
      "\u001b[0;31mNameError\u001b[0m: name 'run_nsga_with_adequecy' is not defined"
     ]
    }
   ],
   "source": [
    "tests = [i[0] for i in chart_1_tet]\n",
    "execution_times = np.array([i[1] for i in chart_1_tet])\n",
    "fault_detections = np.array([i[1] for i in chart_1_fdr])\n",
    "\n",
    "test_cases = np.column_stack((execution_times, fault_detections))\n",
    "adequacy_scores = get_adequacy_scores(fault_detections)\n",
    "\n",
    "# run_nsga(test_cases)\n",
    "run_nsga_with_adequecy(test_cases, adequacy_scores)"
   ]
  }
 ],
 "metadata": {
  "kernelspec": {
   "display_name": "Python 3",
   "language": "python",
   "name": "python3"
  },
  "language_info": {
   "codemirror_mode": {
    "name": "ipython",
    "version": 3
   },
   "file_extension": ".py",
   "mimetype": "text/x-python",
   "name": "python",
   "nbconvert_exporter": "python",
   "pygments_lexer": "ipython3",
   "version": "3.9.1"
  }
 },
 "nbformat": 4,
 "nbformat_minor": 2
}
